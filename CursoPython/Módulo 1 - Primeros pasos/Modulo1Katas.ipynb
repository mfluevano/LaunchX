{
 "cells": [
  {
   "cell_type": "markdown",
   "metadata": {},
   "source": [
    "#Kata del modoulo 1\n",
    "___\n",
    "## Priimer ejercicio de kata\n",
    "### Objetivo\n",
    "> * Crear una aplicaciónque muestre la fecha actual\n",
    "> * Solucion encontrada `datetime.datetime.now()`\n",
    "___\n",
    "\n",
    "\n",
    "```\n",
    "from datetime import datetime\n",
    "\n",
    "print(\" Today's date is: \", datetime.now())\n",
    "\n",
    "```"
   ]
  },
  {
   "cell_type": "code",
   "execution_count": 1,
   "metadata": {},
   "outputs": [
    {
     "name": "stdout",
     "output_type": "stream",
     "text": [
      " Today's date is:  2022-02-12 21:02:23.824977\n"
     ]
    }
   ],
   "source": [
    "from datetime import datetime\n",
    "\n",
    "print(\" Today's date is: \", datetime.now())\n"
   ]
  },
  {
   "cell_type": "markdown",
   "metadata": {},
   "source": [
    "# Convertidor de unidades\n",
    "### Objetivo\n",
    "> * Convertir parsec a años luz\n",
    "> * Solucion encontrada factor de conversion: 3.26156\n",
    "\n",
    "\n",
    "___\n",
    "***\n",
    "___\n",
    "\n",
    "| Unidad | Factor de conversion |\n",
    "| ------ | ------------------- |\n",
    "| parsec | 3.26156 años luz |"
   ]
  },
  {
   "cell_type": "code",
   "execution_count": 15,
   "metadata": {},
   "outputs": [
    {
     "name": "stdout",
     "output_type": "stream",
     "text": [
      "5 lightyears is  16.3078 parsecs\n"
     ]
    }
   ],
   "source": [
    "lightyears = 5\n",
    "parsecs = lightyears * 3.26156\n",
    "\n",
    "print(str(lightyears)+ \" lightyears is  \" + str(parsecs) + \" parsecs\")\n",
    "\n",
    "\n"
   ]
  }
 ],
 "metadata": {
  "interpreter": {
   "hash": "2be5faf79681da6f2a61fdfdd5405d65d042280f7fba6178067603e3a2925119"
  },
  "kernelspec": {
   "display_name": "Python 3.10.1 64-bit",
   "language": "python",
   "name": "python3"
  },
  "language_info": {
   "codemirror_mode": {
    "name": "ipython",
    "version": 3
   },
   "file_extension": ".py",
   "mimetype": "text/x-python",
   "name": "python",
   "nbconvert_exporter": "python",
   "pygments_lexer": "ipython3",
   "version": "3.10.1"
  },
  "orig_nbformat": 4
 },
 "nbformat": 4,
 "nbformat_minor": 2
}
