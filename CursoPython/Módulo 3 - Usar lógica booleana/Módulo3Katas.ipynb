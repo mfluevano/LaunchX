{
 "cells": [
  {
   "cell_type": "markdown",
   "metadata": {},
   "source": [
    "# Logica booleana\n",
    "\n",
    "> Se modificaronn los  ekem¡los para que los valores de entrada sean aleatorios para asi se pueda apreciarl de una forma  mas clara  la belleza de la logica booleana\n",
    "\n",
    "\n",
    "## Problema 1\n",
    "> El asteroide se aproxima "
   ]
  },
  {
   "cell_type": "code",
   "execution_count": 8,
   "metadata": {},
   "outputs": [
    {
     "name": "stdout",
     "output_type": "stream",
     "text": [
      "La velocidad del asteroide es:  75\n",
      "Asteroride se mueve más rápido que la velocidad de alerta no es momento de comer doritos\n"
     ]
    }
   ],
   "source": [
    "#crearemos la velocidad del asteroide de manera aleatoria\n",
    "import random\n",
    "\n",
    "asteroideVelocidad= random.randint(1,100)\n",
    "velocidadAlerta=25\n",
    "print(\"La velocidad del asteroide es: \", asteroideVelocidad)    \n",
    "\n",
    "\n",
    "#comprobamos si la velocidad del asteroide es mayor que la velocidad de alerta\n",
    "\n",
    "if asteroideVelocidad > velocidadAlerta:\n",
    "    print(\"Asteroride se mueve más rápido que la velocidad de alerta no es momento de comer doritos\")\n",
    "else:\n",
    "    print(\"Coma 3 doritos y luego vuelve a intentarlo\")"
   ]
  },
  {
   "cell_type": "markdown",
   "metadata": {},
   "source": [
    "## Problema 2\n",
    ">  te vi or no te vi\n"
   ]
  },
  {
   "cell_type": "code",
   "execution_count": 11,
   "metadata": {},
   "outputs": [
    {
     "name": "stdout",
     "output_type": "stream",
     "text": [
      "La velocidad del asteroide es:  43\n",
      "oye , abre tus ojos y mira hacia arriba , disfruta las .--.... aaa el asteroide esta muy cerca\n"
     ]
    }
   ],
   "source": [
    "import random\n",
    "velocidad_asteroide = random.randint(1,50)\n",
    "print (\"La velocidad del asteroide es: \", velocidad_asteroide)\n",
    "\n",
    "if velocidad_asteroide >= 20:\n",
    "    print (\"oye , abre tus ojos y mira hacia arriba , disfruta las .--.... aaa el asteroide esta muy cerca\")\n",
    "else:\n",
    "    print (\"na na na , nanana nanana --\")"
   ]
  },
  {
   "cell_type": "markdown",
   "metadata": {},
   "source": [
    "## Problema 3\n",
    " > mix it up\n",
    " "
   ]
  },
  {
   "cell_type": "code",
   "execution_count": 5,
   "metadata": {},
   "outputs": [
    {
     "name": "stdout",
     "output_type": "stream",
     "text": [
      "La velocidad del asteroide es:  36\n",
      "El tamaño del asteroide es:  2\n",
      "Luego entonces\n",
      "el cielo se esta llenando de asteroides\n"
     ]
    }
   ],
   "source": [
    "import random\n",
    "velocidad_asteroide = random.randint(1,50)\n",
    "print (\"La velocidad del asteroide es: \", velocidad_asteroide)\n",
    "tamano_asteroide = random.randint(1,50)\n",
    "print (\"El tamaño del asteroide es: \", tamano_asteroide)\n",
    "print (\"Luego entonces\")\n",
    "\n",
    "if velocidad_asteroide >= 25 and tamano_asteroide >= 25:\n",
    "    print (\"Alerta , el asteroide esta muy cerca\")\n",
    "elif velocidad_asteroide >= 20:\n",
    "    print (\"el cielo se esta llenando de asteroides\")\n",
    "else:\n",
    "    print (\"Coma 3 doritos y luego vuelve a intentarlo\")\n",
    "    \n",
    "\n",
    "\n"
   ]
  }
 ],
 "metadata": {
  "interpreter": {
   "hash": "2be5faf79681da6f2a61fdfdd5405d65d042280f7fba6178067603e3a2925119"
  },
  "kernelspec": {
   "display_name": "Python 3.10.1 64-bit",
   "language": "python",
   "name": "python3"
  },
  "language_info": {
   "codemirror_mode": {
    "name": "ipython",
    "version": 3
   },
   "file_extension": ".py",
   "mimetype": "text/x-python",
   "name": "python",
   "nbconvert_exporter": "python",
   "pygments_lexer": "ipython3",
   "version": "3.10.1"
  },
  "orig_nbformat": 4
 },
 "nbformat": 4,
 "nbformat_minor": 2
}
